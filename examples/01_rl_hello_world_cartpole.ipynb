{
 "cells": [
  {
   "cell_type": "markdown",
   "source": [
    "# Reinforcement Learning \"Hello World\"\n",
    "\n",
    "## Copyright\n",
    "\n",
    "*Copyright Geoscience DS&ML Special Interest Group, 2022.*\n",
    "*License: [CC BY 4.0](https://creativecommons.org/licenses/by/4.0/)*\n",
    "*Author(s): [Altay Sansal](https://github.com/tasansal)*\n",
    "\n",
    "## Prerequisites\n",
    "\n",
    "NOTE: This notebook requires wildcatter installed with the `hello_world` extra. To do this install wildcatter via:\n",
    "```shell\n",
    "pip install wildcatter[hello_world]\n",
    "```\n",
    "\n",
    "This notebook assumes familiarity with Reinforcement Learning concepts (agents, spaces, actions, ...) and knowledge of [OpenAI's Gym](https://www.gymlibrary.ml/) APIs and environments. If you are not familiar with RL or Gym at all, we refer the reader to the following resources:\n",
    "1. [OpenAI Gym Introduction](https://www.gymlibrary.ml/content/api/)\n",
    "2. [OpenAI Gym Introduction](https://www.gymlibrary.ml/content/api/)\n",
    "3. [OpenAI Spinning Up in Deep RL](https://spinningup.openai.com/en/latest/)\n",
    "    * [Part 1: Key Concepts in RL](https://spinningup.openai.com/en/latest/spinningup/rl_intro.html)\n",
    "    * [Part 2: Kinds of RL Algorithms](https://spinningup.openai.com/en/latest/spinningup/rl_intro2.html)\n",
    "    * [Part 3: Intro to Policy Optimization](https://spinningup.openai.com/en/latest/spinningup/rl_intro3.html)\n",
    "    * [Key Papers](https://spinningup.openai.com/en/latest/spinningup/keypapers.html)\n",
    "    * [RL Algorithms](https://spinningup.openai.com/en/latest/user/algorithms.html)\n",
    "4. [David Silver's RL Course](https://www.davidsilver.uk/teaching/)\n",
    "5. [Berkeley's Deep RL Bootcamp](https://sites.google.com/view/deep-rl-bootcamp/lectures)\n",
    "6. [PyTorch DQN from Scratch](https://pytorch.org/tutorials/intermediate/reinforcement_q_learning.html)\n",
    "7. [OpenAI Gym Tutorials](https://www.gymlibrary.ml/content/tutorials/)\n",
    "8. [More Resources](https://github.com/dennybritz/reinforcement-learning#resources)\n",
    "9. [If you like MATLAB...](https://www.mathworks.com/products/reinforcement-learning.html)\n",
    "\n",
    "First two resources are bare-minimum, but for the curious minded, we included more detailed resources!\n",
    "\n",
    "## Introduction\n",
    "\n",
    "Here we will be using an environment from `Gym`. The environment we choose is the `CartPole-v1`, which is a part of the classic control system environments.\n",
    "\n",
    "The problem we are trying to solve is trying to keep a pole upright, which is attached to a frictionless cart with an un-actuated joint. The goal is to balance the pole by moving the cart to the left or to the right.\n",
    "\n",
    "Untrained environment looks like this:\n",
    "<img src=\"https://www.gymlibrary.ml/_images/cart_pole.gif\" width=\"350\"/>\n",
    "\n",
    "More information about the environment can be found [here](https://www.gymlibrary.ml/environments/classic_control/cart_pole/) and the source code for the environment can be found [here](https://github.com/openai/gym/blob/master/gym/envs/classic_control/cartpole.py).\n",
    "\n",
    "The environment has the following action and observation spaces:\n",
    "\n",
    "| Property          | Details             |\n",
    "|-------------------|---------------------|\n",
    "| Action Space      | `Discrete(2)`       |\n",
    "| Observation Space | `Box(4, 'float32')` |\n",
    "\n",
    "Action Space:\n",
    "\n",
    "| Num | Action                 |\n",
    "|:---:|------------------------|\n",
    "|  0  | Push cart to the left  |\n",
    "|  1  | Push cart to the right |\n",
    "\n",
    "Observation Space:\n",
    "\n",
    "| Num | Action                |     Min      |     Max     |\n",
    "|:---:|-----------------------|:------------:|:-----------:|\n",
    "|  0  | Cart Position         |    `-4.8`    |    `4.8`    |\n",
    "|  1  | Cart Velocity         |    `-inf`    |    `inf`    |\n",
    "|  2  | Pole Angle            | `-0.418 rad` | `0.418 rad` |\n",
    "|  3  | Pole Angular Velocity |    `-inf`    |    `inf`    |\n",
    "\n",
    "The environment will terminate automatically (send a `done` signal) if the pole's angle is more than 12 degrees (0.20944 rad) or if the position of the cart is +/- 2.4, meaning cart reaches the end of the display.\n",
    "\n",
    "Let's take a more detailed look!\n",
    "\n",
    "We first import `gym` and make the environment. Then we will look at its pre-configured action space and observation space using built in attributes."
   ],
   "metadata": {
    "collapsed": false,
    "pycharm": {
     "name": "#%% md\n"
    }
   }
  },
  {
   "cell_type": "code",
   "execution_count": 1,
   "metadata": {
    "pycharm": {
     "name": "#%%\n"
    }
   },
   "outputs": [],
   "source": [
    "import gym\n",
    "\n",
    "env_id = \"CartPole-v1\"\n",
    "env = gym.make(env_id)"
   ]
  },
  {
   "cell_type": "code",
   "execution_count": 2,
   "outputs": [
    {
     "data": {
      "text/plain": "Discrete(2)"
     },
     "execution_count": 2,
     "metadata": {},
     "output_type": "execute_result"
    }
   ],
   "source": [
    "env.action_space"
   ],
   "metadata": {
    "collapsed": false,
    "pycharm": {
     "name": "#%%\n"
    }
   }
  },
  {
   "cell_type": "code",
   "execution_count": 3,
   "outputs": [
    {
     "data": {
      "text/plain": "Box([-4.8000002e+00 -3.4028235e+38 -4.1887903e-01 -3.4028235e+38], [4.8000002e+00 3.4028235e+38 4.1887903e-01 3.4028235e+38], (4,), float32)"
     },
     "execution_count": 3,
     "metadata": {},
     "output_type": "execute_result"
    }
   ],
   "source": [
    "env.observation_space"
   ],
   "metadata": {
    "collapsed": false,
    "pycharm": {
     "name": "#%%\n"
    }
   }
  },
  {
   "cell_type": "markdown",
   "source": [
    "Here let's see what the observation state looks like if we reset the environment five times."
   ],
   "metadata": {
    "collapsed": false,
    "pycharm": {
     "name": "#%% md\n"
    }
   }
  },
  {
   "cell_type": "code",
   "execution_count": 4,
   "outputs": [
    {
     "name": "stdout",
     "output_type": "stream",
     "text": [
      "reset 1 [0.01656609 0.02576861 0.0039965  0.01861649]\n",
      "reset 2 [-0.03452398 -0.04903302 -0.0241876   0.03794585]\n",
      "reset 3 [-0.02339839  0.01897064  0.00293178 -0.03030473]\n",
      "reset 4 [ 0.0366796  -0.00294616  0.00407595 -0.00959057]\n",
      "reset 5 [-0.00534603  0.04765269 -0.00063244  0.04559017]\n"
     ]
    }
   ],
   "source": [
    "for idx in range(5):\n",
    "    print(f\"reset {idx + 1}\", env.reset())"
   ],
   "metadata": {
    "collapsed": false,
    "pycharm": {
     "name": "#%%\n"
    }
   }
  },
  {
   "cell_type": "markdown",
   "source": [
    "As expected, we can see the cart and pole parameters are all different once we reset the environment.\n",
    "\n",
    "Reminder: Values are `[cart_position, cart_velocity, pole_angle(rad), pole_angular_velocity]`.\n",
    "\n",
    "Now let's reset the environment and take up to 100 steps. Since there is no trained model, the actions we sample are going to be randomly selected from the action space. The expectation here is to fail after ~20 time steps.\n",
    "\n",
    "The boilerplate code is to visualize in Jupyter Notebook. Normally this would pop up a window using Pyglet and will visualize the current state of the system when the `.render()` method is called.\n",
    "\n",
    "Here, the returned variables are **observation** which is the current state, the **reward** is the current reward for the action we have taken (not cumulative), **done** states if the environment finished, or failed etc., and finally **info** is a diagnostic variable (if we included things in the `step` implementation). In the cartpole environment, the info is empty."
   ],
   "metadata": {
    "collapsed": false,
    "pycharm": {
     "name": "#%% md\n"
    }
   }
  },
  {
   "cell_type": "code",
   "execution_count": 5,
   "outputs": [
    {
     "data": {
      "text/plain": "<Figure size 720x720 with 1 Axes>",
      "image/png": "[encoded data removed]"
     },
     "metadata": {
      "needs_background": "light"
     },
     "output_type": "display_data"
    }
   ],
   "source": [
    "from IPython import display\n",
    "import matplotlib.pyplot as plt\n",
    "\n",
    "%matplotlib inline\n",
    "\n",
    "obs = env.reset()\n",
    "\n",
    "fig, ax = plt.subplots(figsize=(10, 10))\n",
    "img = ax.imshow(env.render(mode=\"rgb_array\"), interpolation=\"none\")\n",
    "fig.tight_layout()\n",
    "\n",
    "done = False\n",
    "for idx in range(100):\n",
    "    img.set_data(env.render(mode=\"rgb_array\"))\n",
    "    display.display(plt.gcf())\n",
    "    display.clear_output(wait=True)\n",
    "\n",
    "    action = env.action_space.sample()\n",
    "    obs, reward, done, info = env.step(action)\n",
    "\n",
    "    if done:\n",
    "        plt.text(100, 100, f\"Failed at step {idx}\", fontsize=20)\n",
    "        break\n",
    "\n",
    "if not done:\n",
    "    plt.text(100, 100, f\"Stable until step {idx + 1}\", fontsize=20)\n",
    "\n",
    "env.close()"
   ],
   "metadata": {
    "collapsed": false,
    "pycharm": {
     "name": "#%%\n"
    }
   }
  },
  {
   "cell_type": "markdown",
   "source": [
    "# Training An Agent\n",
    "\n",
    "We chose to use the Proximal Policy Optimization (PPO) algorithm with a Multi-Layer Perceptron (MLP, also known as Feedforward Fully-Connected Neural Network) policy to make our agent learn how to balance a stick! Some other popular algorithms are Deep Q-Network (DQN), Advantage Actor Critic (A2C), and more. A very extensive list of RL algorithms can be found [here](https://docs.ray.io/en/latest/rllib/rllib-algorithms.html).\n",
    "\n",
    "However, keep in mind, this is a very simple RL problem. Typically, RL algorithms require a lot of hyperparameter tuning.\n",
    "\n",
    "In this example, due to its simplicity, we are using the [Stable Baselines3](https://stable-baselines3.readthedocs.io/en/master/) library. This does allow many configuration options. However, for production scale RL and high performance training, the industry standard is [Ray](https://docs.ray.io/en/latest/index.html)'s [RLlib](https://docs.ray.io/en/latest/rllib/index.html).\n",
    "\n",
    "For tunable parameters of PPO, we recommend checking out the Stable Baselines3 documentation (below). The PPO explained article is also helpful in understanding the parameters and their meanings.\n",
    "\n",
    "More information about PPO:\n",
    "* [PPO Paper](https://arxiv.org/abs/1707.06347)\n",
    "* [Understanding PPO Plots](https://medium.com/aureliantactics/understanding-ppo-plots-in-tensorboard-cbc3199b9ba2)\n",
    "* [OpenAI Spinning Up PPO](https://spinningup.openai.com/en/latest/algorithms/ppo.html)\n",
    "* [PPO Stable Baselines3](https://stable-baselines3.readthedocs.io/en/master/modules/ppo.html)\n",
    "* [PPO Explained - Article](https://jonathan-hui.medium.com/rl-proximal-policy-optimization-ppo-explained-77f014ec3f12)\n",
    "* [PPO Keras from Scratch](https://keras.io/examples/rl/ppo_cartpole/)\n",
    "\n",
    "We will first let it train for 10,000 time-steps. We will also evaluate it on 10 episodes to and get its average score."
   ],
   "metadata": {
    "collapsed": false,
    "pycharm": {
     "name": "#%% md\n"
    }
   }
  },
  {
   "cell_type": "code",
   "execution_count": 6,
   "outputs": [
    {
     "name": "stdout",
     "output_type": "stream",
     "text": [
      "Using cpu device\n",
      "Wrapping the env with a `Monitor` wrapper\n",
      "Wrapping the env in a DummyVecEnv.\n",
      "------------------------------------------\n",
      "| rollout/                |              |\n",
      "|    ep_len_mean          | 63.2         |\n",
      "|    ep_rew_mean          | 63.2         |\n",
      "| time/                   |              |\n",
      "|    fps                  | 1657         |\n",
      "|    iterations           | 5            |\n",
      "|    time_elapsed         | 6            |\n",
      "|    total_timesteps      | 10240        |\n",
      "| train/                  |              |\n",
      "|    approx_kl            | 0.0070142997 |\n",
      "|    clip_fraction        | 0.0708       |\n",
      "|    clip_range           | 0.2          |\n",
      "|    entropy_loss         | -0.601       |\n",
      "|    explained_variance   | 0.254        |\n",
      "|    learning_rate        | 0.0003       |\n",
      "|    loss                 | 22.6         |\n",
      "|    n_updates            | 40           |\n",
      "|    policy_gradient_loss | -0.0167      |\n",
      "|    value_loss           | 70.3         |\n",
      "------------------------------------------\n",
      "10 evaluation runs mean reward = 436.3\n"
     ]
    }
   ],
   "source": [
    "from stable_baselines3 import PPO\n",
    "from stable_baselines3.common.evaluation import evaluate_policy\n",
    "\n",
    "model = PPO(\"MlpPolicy\", env, verbose=1)\n",
    "model.learn(total_timesteps=10_000, log_interval=5)\n",
    "\n",
    "mean_reward, std_reward = evaluate_policy(model, model.get_env(), n_eval_episodes=10)\n",
    "print(f\"10 evaluation runs mean reward = {mean_reward}\")"
   ],
   "metadata": {
    "collapsed": false,
    "pycharm": {
     "name": "#%%\n"
    }
   }
  },
  {
   "cell_type": "markdown",
   "source": [
    "Now let's visualize the trained agent.\n",
    "\n",
    "Note that now the action is being predicted by the model, instead of sampling randomly from the action space."
   ],
   "metadata": {
    "collapsed": false,
    "pycharm": {
     "name": "#%% md\n"
    }
   }
  },
  {
   "cell_type": "code",
   "execution_count": 7,
   "outputs": [
    {
     "data": {
      "text/plain": "<Figure size 720x720 with 1 Axes>",
      "image/png": "[encoded data removed]"
     },
     "metadata": {
      "needs_background": "light"
     },
     "output_type": "display_data"
    }
   ],
   "source": [
    "from IPython import display\n",
    "import matplotlib.pyplot as plt\n",
    "\n",
    "%matplotlib inline\n",
    "\n",
    "obs = env.reset()\n",
    "\n",
    "fig, ax = plt.subplots(figsize=(10, 10))\n",
    "img = ax.imshow(env.render(mode=\"rgb_array\"), interpolation=\"none\")\n",
    "fig.tight_layout()\n",
    "\n",
    "done = False\n",
    "for idx in range(100):\n",
    "    img.set_data(env.render(mode=\"rgb_array\"))\n",
    "    display.display(plt.gcf())\n",
    "    display.clear_output(wait=True)\n",
    "\n",
    "    action, _states = model.predict(obs)\n",
    "    obs, reward, done, info = env.step(action)\n",
    "\n",
    "    if done:\n",
    "        plt.text(100, 100, f\"Failed at step {idx}\", fontsize=20)\n",
    "        break\n",
    "\n",
    "if not done:\n",
    "    plt.text(100, 100, f\"Stable until step {idx + 1}\", fontsize=20)\n",
    "\n",
    "env.close()"
   ],
   "metadata": {
    "collapsed": false,
    "pycharm": {
     "name": "#%%\n"
    }
   }
  },
  {
   "cell_type": "markdown",
   "source": [
    "Let's train for more time."
   ],
   "metadata": {
    "collapsed": false,
    "pycharm": {
     "name": "#%% md\n"
    }
   }
  },
  {
   "cell_type": "code",
   "execution_count": 8,
   "outputs": [
    {
     "name": "stdout",
     "output_type": "stream",
     "text": [
      "Using cpu device\n",
      "Wrapping the env with a `Monitor` wrapper\n",
      "Wrapping the env in a DummyVecEnv.\n",
      "------------------------------------------\n",
      "| rollout/                |              |\n",
      "|    ep_len_mean          | 236          |\n",
      "|    ep_rew_mean          | 236          |\n",
      "| time/                   |              |\n",
      "|    fps                  | 1526         |\n",
      "|    iterations           | 15           |\n",
      "|    time_elapsed         | 20           |\n",
      "|    total_timesteps      | 30720        |\n",
      "| train/                  |              |\n",
      "|    approx_kl            | 0.0048547667 |\n",
      "|    clip_fraction        | 0.0299       |\n",
      "|    clip_range           | 0.2          |\n",
      "|    entropy_loss         | -0.523       |\n",
      "|    explained_variance   | 0.052        |\n",
      "|    learning_rate        | 0.0003       |\n",
      "|    loss                 | 0.0786       |\n",
      "|    n_updates            | 140          |\n",
      "|    policy_gradient_loss | -0.000506    |\n",
      "|    value_loss           | 1.98         |\n",
      "------------------------------------------\n",
      "------------------------------------------\n",
      "| rollout/                |              |\n",
      "|    ep_len_mean          | 465          |\n",
      "|    ep_rew_mean          | 465          |\n",
      "| time/                   |              |\n",
      "|    fps                  | 1508         |\n",
      "|    iterations           | 30           |\n",
      "|    time_elapsed         | 40           |\n",
      "|    total_timesteps      | 61440        |\n",
      "| train/                  |              |\n",
      "|    approx_kl            | 0.0048740814 |\n",
      "|    clip_fraction        | 0.024        |\n",
      "|    clip_range           | 0.2          |\n",
      "|    entropy_loss         | -0.48        |\n",
      "|    explained_variance   | 0.00551      |\n",
      "|    learning_rate        | 0.0003       |\n",
      "|    loss                 | 0.00102      |\n",
      "|    n_updates            | 290          |\n",
      "|    policy_gradient_loss | -0.00275     |\n",
      "|    value_loss           | 0.00221      |\n",
      "------------------------------------------\n",
      "10 evaluation runs mean reward = 500.0\n"
     ]
    }
   ],
   "source": [
    "model = PPO(\"MlpPolicy\", env, verbose=1)\n",
    "model.learn(total_timesteps=60_000, log_interval=15)\n",
    "\n",
    "mean_reward, std_reward = evaluate_policy(model, model.get_env(), n_eval_episodes=10)\n",
    "print(f\"10 evaluation runs mean reward = {mean_reward}\")"
   ],
   "metadata": {
    "collapsed": false,
    "pycharm": {
     "name": "#%%\n"
    }
   }
  },
  {
   "cell_type": "code",
   "execution_count": 9,
   "outputs": [
    {
     "data": {
      "text/plain": "<Figure size 720x720 with 1 Axes>",
      "image/png": "[encoded data removed]"
     },
     "metadata": {
      "needs_background": "light"
     },
     "output_type": "display_data"
    }
   ],
   "source": [
    "from IPython import display\n",
    "import matplotlib.pyplot as plt\n",
    "\n",
    "%matplotlib inline\n",
    "\n",
    "obs = env.reset()\n",
    "\n",
    "fig, ax = plt.subplots(figsize=(10, 10))\n",
    "img = ax.imshow(env.render(mode=\"rgb_array\"), interpolation=\"none\")\n",
    "fig.tight_layout()\n",
    "\n",
    "done = False\n",
    "for idx in range(100):\n",
    "    img.set_data(env.render(mode=\"rgb_array\"))\n",
    "    display.display(plt.gcf())\n",
    "    display.clear_output(wait=True)\n",
    "\n",
    "    action, _states = model.predict(obs)\n",
    "    obs, reward, done, info = env.step(action)\n",
    "\n",
    "    if done:\n",
    "        plt.text(100, 100, f\"Failed at step {idx}\", fontsize=20)\n",
    "        break\n",
    "\n",
    "if not done:\n",
    "    plt.text(100, 100, f\"Stable until step {idx + 1}\", fontsize=20)\n",
    "\n",
    "env.close()"
   ],
   "metadata": {
    "collapsed": false,
    "pycharm": {
     "name": "#%%\n"
    }
   }
  },
  {
   "cell_type": "markdown",
   "source": [
    "The new agent is much better at balancing the pole. If we increased the training steps to above 100,000 it is hard to see that the pole is even moving!\n",
    "\n",
    "# Conclusions\n",
    "* We learned about the CartPole environment.\n",
    "* We trained a simple RL environment using PPO algorithm.\n",
    "\n",
    "# Next Steps\n",
    "If you want to improve your RL skills from here, we recommend:\n",
    "1. Use different OpenAI Gym environments to practice.\n",
    "2. Try different RL algorithms (links above).\n",
    "3. Try hyperparameter tuning with Ray RLlib (links above).\n",
    "4. Implement your own environment for wildcatter!\n",
    "5. Check out Stable Baselines3 or RLlib TensorBoard integration [here](https://stable-baselines3.readthedocs.io/en/master/guide/tensorboard.html) and [here](https://docs.ray.io/en/latest/rllib/rllib-training.html)."
   ],
   "metadata": {
    "collapsed": false,
    "pycharm": {
     "name": "#%% md\n"
    }
   }
  }
 ],
 "metadata": {
  "kernelspec": {
   "display_name": "Python 3 (ipykernel)",
   "language": "python",
   "name": "python3"
  },
  "language_info": {
   "codemirror_mode": {
    "name": "ipython",
    "version": 3
   },
   "file_extension": ".py",
   "mimetype": "text/x-python",
   "name": "python",
   "nbconvert_exporter": "python",
   "pygments_lexer": "ipython3",
   "version": "3.9.12"
  }
 },
 "nbformat": 4,
 "nbformat_minor": 1
}
